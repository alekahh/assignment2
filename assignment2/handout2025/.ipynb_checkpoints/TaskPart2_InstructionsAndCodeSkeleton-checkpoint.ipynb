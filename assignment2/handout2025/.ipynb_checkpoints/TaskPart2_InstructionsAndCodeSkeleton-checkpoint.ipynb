{
 "cells": [
  {
   "cell_type": "markdown",
   "metadata": {},
   "source": [
    "## Some comparisons of filtering and smoothing (can be with or without the viewer)\n",
    "\n",
    "### Hint for your task 2)\n",
    "#### You must implement your filtering / smoothing in the HMMFilter / HMMSmoother classes in the file Filters. For the filter, this means also that you can use the visualisation through the Localizer, but you can call filter / smooth also directly from here, without the Localiser. Note also, that you must make use of the given models and the robot simulator in RobotSim!\n"
   ]
  },
  {
   "cell_type": "code",
   "execution_count": 7,
   "metadata": {
    "scrolled": true
   },
   "outputs": [
    {
     "ename": "TypeError",
     "evalue": "unsupported operand type(s) for -: 'tuple' and 'tuple'",
     "output_type": "error",
     "traceback": [
      "\u001b[0;31m---------------------------------------------------------------------------\u001b[0m",
      "\u001b[0;31mTypeError\u001b[0m                                 Traceback (most recent call last)",
      "Cell \u001b[0;32mIn[7], line 66\u001b[0m\n\u001b[1;32m     62\u001b[0m \u001b[38;5;66;03m# ...existing code...\u001b[39;00m\n\u001b[1;32m     63\u001b[0m \n\u001b[1;32m     64\u001b[0m \u001b[38;5;66;03m# Calculate Manhattan distance for smoother\u001b[39;00m\n\u001b[1;32m     65\u001b[0m smoother_estimate \u001b[38;5;241m=\u001b[39m sm\u001b[38;5;241m.\u001b[39mstate_to_position(np\u001b[38;5;241m.\u001b[39margmax(smoother_belief))\n\u001b[0;32m---> 66\u001b[0m smoother_distance \u001b[38;5;241m=\u001b[39m \u001b[38;5;28mabs\u001b[39m(true_position \u001b[38;5;241m-\u001b[39m smoother_estimate) \u001b[38;5;241m+\u001b[39m \u001b[38;5;28mabs\u001b[39m(\n\u001b[1;32m     67\u001b[0m     true_position \u001b[38;5;241m-\u001b[39m smoother_estimate\n\u001b[1;32m     68\u001b[0m )\n\u001b[1;32m     69\u001b[0m smoother_distances\u001b[38;5;241m.\u001b[39mappend(smoother_distance)\n\u001b[1;32m     71\u001b[0m \u001b[38;5;66;03m# Plot results\u001b[39;00m\n",
      "\u001b[0;31mTypeError\u001b[0m: unsupported operand type(s) for -: 'tuple' and 'tuple'"
     ]
    }
   ],
   "source": [
    "from models import *\n",
    "from Filters import HMMFilter, HMMSmoother\n",
    "from models.ObservationModel_NUF import ObservationModel\n",
    "\n",
    "import numpy as np\n",
    "import matplotlib.pyplot as plt\n",
    "import random\n",
    "\n",
    "# Grid dimensions\n",
    "rows = 8\n",
    "cols = 8\n",
    "\n",
    "# Create StateModel, TransitionModel, and ObservationModel\n",
    "sm = StateModel(rows, cols)\n",
    "tm = TransitionModel(sm)\n",
    "om = ObservationModel(sm)  \n",
    "\n",
    "# Initialize HMMFilter and HMMSmoother\n",
    "prior = np.ones(sm.get_num_of_states()) / sm.get_num_of_states()\n",
    "hmm_filter = HMMFilter(prior, tm, om, sm)\n",
    "hmm_smoother = HMMSmoother(tm, om, sm)\n",
    "\n",
    "# Create RobotSim\n",
    "true_state = random.randint(0, sm.get_num_of_states() - 1)\n",
    "rs = RobotSim(true_state, sm)\n",
    "\n",
    "# Simulation parameters\n",
    "num_steps = 500\n",
    "smoothing_window = 5\n",
    "\n",
    "# Store results\n",
    "filter_distances = []\n",
    "smoother_distances = []\n",
    "\n",
    "# Store sensor readings for smoothing\n",
    "sensor_readings = []\n",
    "\n",
    "# Simulation loop\n",
    "for i in range(num_steps):\n",
    "    # Move the robot\n",
    "    true_state = rs.move_once(tm)\n",
    "    \n",
    "    # Get the observation\n",
    "    observation = rs.sense_in_current_state(om)\n",
    "    sensor_readings.append(observation)\n",
    "    \n",
    "    # Get the filter belief\n",
    "    filter_belief = hmm_filter.filter(observation)\n",
    "    \n",
    "    # Calculate Manhattan distance for filter\n",
    "    filter_estimate = sm.state_to_position(np.argmax(filter_belief))\n",
    "    true_position = sm.state_to_position(true_state)\n",
    "    filter_distance = abs(true_position[0] - filter_estimate[0]) + abs(true_position[1] - filter_estimate[1])\n",
    "    filter_distances.append(filter_distance)\n",
    "    \n",
    "    # Perform smoothing if we have enough sensor readings\n",
    "    if len(sensor_readings) >= smoothing_window:\n",
    "        smoother_belief = hmm_smoother.smooth(sensor_readings[-smoothing_window:], filter_belief)\n",
    "        smoother_estimate = sm.state_to_position(np.argmax(smoother_belief))\n",
    "        smoother_distance = abs(true_position[0] - smoother_estimate[0]) + abs(true_position[1] - smoother_estimate[1])\n",
    "        smoother_distances.append(smoother_distance)\n",
    "    else:\n",
    "        smoother_distances.append(None)\n",
    "\n",
    "# Calculate average Manhattan distance for filter and smoother\n",
    "average_filter_distance = np.mean(filter_distances)\n",
    "average_smoother_distance = np.mean([d for d in smoother_distances if d is not None])\n",
    "\n",
    "print(f\"Average Manhattan Distance (Filter): {average_filter_distance}\")\n",
    "print(f\"Average Manhattan Distance (Smoother): {average_smoother_distance}\")\n",
    "\n",
    "# Plot results\n",
    "plt.figure(figsize=(10, 5))\n",
    "plt.plot(filter_distances, label=\"Filter\")\n",
    "plt.plot([d for d in smoother_distances if d is not None], label=\"Smoother\")\n",
    "plt.xlabel(\"Time Step\")\n",
    "plt.ylabel(\"Manhattan Distance\")\n",
    "plt.title(\"Performance Comparison: Filter vs. Smoother\")\n",
    "plt.legend()\n",
    "plt.show()\n"
   ]
  },
  {
   "cell_type": "code",
   "execution_count": null,
   "metadata": {},
   "outputs": [],
   "source": []
  }
 ],
 "metadata": {
  "kernelspec": {
   "display_name": "Python 3 (ipykernel)",
   "language": "python",
   "name": "python3"
  },
  "language_info": {
   "codemirror_mode": {
    "name": "ipython",
    "version": 3
   },
   "file_extension": ".py",
   "mimetype": "text/x-python",
   "name": "python",
   "nbconvert_exporter": "python",
   "pygments_lexer": "ipython3",
   "version": "3.11.7"
  }
 },
 "nbformat": 4,
 "nbformat_minor": 4
}
